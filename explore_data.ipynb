{
 "cells": [
  {
   "cell_type": "code",
   "execution_count": 1,
   "metadata": {},
   "outputs": [],
   "source": [
    "import json\n",
    "import matplotlib.pyplot as plt\n",
    "import operator"
   ]
  },
  {
   "cell_type": "code",
   "execution_count": 2,
   "metadata": {},
   "outputs": [],
   "source": [
    "def get_mentions_of_cluster(dataset, cluster_id):\n",
    "    mentions = []\n",
    "    for mention in dataset:\n",
    "        if mention['coref_chain'] == cluster_id:\n",
    "            mentions.append(mention)\n",
    "\n",
    "    return mentions\n",
    "\n",
    "\n",
    "def get_all_chains(mentions):\n",
    "    clusters = {}\n",
    "    for mention_dic in mentions:\n",
    "        chain = mention_dic['coref_chain']\n",
    "        clusters[chain] = [] if chain not in clusters else clusters[chain]\n",
    "        clusters[chain].append(mention_dic)\n",
    "\n",
    "    return clusters\n",
    "\n",
    "\n",
    "def get_cluster_by_mention_num(clusters, num):\n",
    "    clusters_names = []\n",
    "    for cluster, doc_mention in clusters.items():\n",
    "        num_of_mentions = len(doc_mention)\n",
    "        if num_of_mentions == num:\n",
    "            clusters_names.append(cluster)\n",
    "\n",
    "    return clusters_names\n",
    "\n",
    "\n",
    "def get_gold_within_doc(mentions):\n",
    "    wd_cluster = {}\n",
    "    for mention in mentions:\n",
    "        chain = mention['coref_chain']\n",
    "        doc = mention['doc_id']\n",
    "        id_within_doc = chain + '_' + doc\n",
    "        wd_cluster[chain] = [] if id_within_doc not in wd_cluster else wd_cluster[chain]\n",
    "        wd_cluster[chain].append(mention)\n",
    "\n",
    "    return wd_cluster\n",
    "\n",
    "\n",
    "\n",
    "def get_metainfo(clusters):\n",
    "    \"\"\"\n",
    "    print num of mentions per clusters\n",
    "    :param clusters:\n",
    "    :return:\n",
    "    \"\"\"\n",
    "    dic = {}\n",
    "    for cluster, doc_mention in clusters.items():\n",
    "        num_of_mentions = len(doc_mention)\n",
    "        dic[num_of_mentions] = dic.get(num_of_mentions, 0) + 1\n",
    "\n",
    "    for length, num_of_clusters in sorted(dic.items()):\n",
    "        print(\"There are {} clusters with {} mentions\".format(num_of_clusters, length))\n",
    "\n",
    "    number = dic.values()\n",
    "    labels = dic.keys()\n",
    "\n",
    "    #get_pie_chart(number, labels)\n",
    "\n",
    "def extract_mention_text(cluster):\n",
    "    mentions = []\n",
    "    for mention in cluster:\n",
    "        mention.append(mention['MENTION_TEXT'])\n",
    "    return mentions\n",
    "\n",
    "\n",
    "def get_pie_chart(values, labels):\n",
    "    patches, texts = plt.pie(values, shadow=True, startangle=90)\n",
    "    plt.legend(patches, labels, loc=\"best\")\n",
    "    plt.axis('equal')\n",
    "    plt.show()\n",
    "\n",
    "\n",
    "def within_to_cross(within_doc_cluster):\n",
    "    cross_doc = {}\n",
    "    for within in within_doc_cluster:\n",
    "        name = within.split('_')[0]\n",
    "        if name != 'INTRA' and name != 'Singleton':\n",
    "            cross_doc[name] = [] if name not in cross_doc else cross_doc[name]\n",
    "            cross_doc[name].append(within)\n",
    "\n",
    "    return cross_doc\n",
    "\n",
    "\n",
    "def find_most_popular_word(clusters, within_doc_cluster):\n",
    "    words = {}\n",
    "    for cluster in clusters:\n",
    "        mentions = within_doc_cluster[cluster]\n",
    "        vocab = set()\n",
    "        for mention in mentions:\n",
    "            text = mention['MENTION_TEXT']\n",
    "            vocab.add(text)\n",
    "\n",
    "        for word in vocab:\n",
    "            words[word] = words.get(word, 0) + 1\n",
    "\n",
    "    most_word = max(words.items(), key=operator.itemgetter(1))\n",
    "    return most_word[0], most_word[1]/len(clusters)\n",
    "\n",
    "\n",
    "\n",
    "\n",
    "def get_prob(within_doc_cluster):\n",
    "    cross_doc = within_to_cross(within_doc_cluster)\n",
    "    length = 0\n",
    "    prob = 0\n",
    "    for cluster, within in cross_doc.items():\n",
    "        word, coverage = find_most_popular_word(within, within_doc_cluster)\n",
    "        length += len(within)\n",
    "        prob += coverage * len(within)\n",
    "\n",
    "    return prob / length\n",
    "\n"
   ]
  },
  {
   "cell_type": "code",
   "execution_count": 3,
   "metadata": {},
   "outputs": [],
   "source": [
    "data = 'meantime_data'"
   ]
  },
  {
   "cell_type": "code",
   "execution_count": 7,
   "metadata": {},
   "outputs": [
    {
     "name": "stdout",
     "output_type": "stream",
     "text": [
      "2866 entity mentions\n",
      "2107 event mentions\n"
     ]
    }
   ],
   "source": [
    "with open(data + '/all_entity_gold_mentions.json', 'r') as f:\n",
    "    entity_mentions = json.load(f)\n",
    "\n",
    "with open(data + '/all_event_gold_mentions.json', 'r') as f:\n",
    "    event_mentions = json.load(f)\n",
    "    \n",
    "print('{} entity mentions'.format(len(entity_mentions)))\n",
    "print('{} event mentions'.format(len(event_mentions)))"
   ]
  },
  {
   "cell_type": "code",
   "execution_count": 8,
   "metadata": {},
   "outputs": [],
   "source": [
    "entity_cross_clusters = get_all_chains(entity_mentions)"
   ]
  },
  {
   "cell_type": "code",
   "execution_count": 9,
   "metadata": {},
   "outputs": [
    {
     "data": {
      "text/plain": [
       "873"
      ]
     },
     "execution_count": 9,
     "metadata": {},
     "output_type": "execute_result"
    }
   ],
   "source": [
    "len(entity_cross_clusters)"
   ]
  },
  {
   "cell_type": "code",
   "execution_count": null,
   "metadata": {},
   "outputs": [],
   "source": []
  }
 ],
 "metadata": {
  "kernelspec": {
   "display_name": "Python 3",
   "language": "python",
   "name": "python3"
  },
  "language_info": {
   "codemirror_mode": {
    "name": "ipython",
    "version": 3
   },
   "file_extension": ".py",
   "mimetype": "text/x-python",
   "name": "python",
   "nbconvert_exporter": "python",
   "pygments_lexer": "ipython3",
   "version": "3.7.1"
  }
 },
 "nbformat": 4,
 "nbformat_minor": 2
}
