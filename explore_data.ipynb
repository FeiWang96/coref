{
 "cells": [
  {
   "cell_type": "code",
   "execution_count": 5,
   "metadata": {},
   "outputs": [
    {
     "name": "stdout",
     "output_type": "stream",
     "text": [
      "Collecting jsonlines\n",
      "  Downloading https://files.pythonhosted.org/packages/4f/9a/ab96291470e305504aa4b7a2e0ec132e930da89eb3ca7a82fbe03167c131/jsonlines-1.2.0-py2.py3-none-any.whl\n",
      "Requirement already satisfied: six in /Users/arie.cattan/anaconda3/lib/python3.7/site-packages (from jsonlines) (1.12.0)\n",
      "Installing collected packages: jsonlines\n",
      "Successfully installed jsonlines-1.2.0\n",
      "Note: you may need to restart the kernel to use updated packages.\n"
     ]
    }
   ],
   "source": [
    "pip install jsonlines"
   ]
  },
  {
   "cell_type": "code",
   "execution_count": 6,
   "metadata": {},
   "outputs": [],
   "source": [
    "import json\n",
    "import matplotlib.pyplot as plt\n",
    "import operator\n",
    "import os\n",
    "import jsonlines\n",
    "import numpy as np\n",
    "from pandas import Series"
   ]
  },
  {
   "cell_type": "code",
   "execution_count": 7,
   "metadata": {},
   "outputs": [],
   "source": [
    "def obj_dict(obj):\n",
    "    return obj.__dict__\n",
    "\n",
    "def get_mentions_of_cluster(dataset, cluster_id):\n",
    "    mentions = []\n",
    "    for mention in dataset:\n",
    "        if mention['coref_chain'] == cluster_id:\n",
    "            mentions.append(mention)\n",
    "\n",
    "    return mentions\n",
    "\n",
    "\n",
    "def get_all_chains(mentions):\n",
    "    clusters = {}\n",
    "    for mention_dic in mentions:\n",
    "        chain = mention_dic['coref_chain']\n",
    "        clusters[chain] = [] if chain not in clusters else clusters[chain]\n",
    "        clusters[chain].append(mention_dic)\n",
    "\n",
    "    return clusters\n",
    "\n",
    "\n",
    "def get_cluster_by_mention_num(clusters, num):\n",
    "    clusters_names = []\n",
    "    for cluster, doc_mention in clusters.items():\n",
    "        num_of_mentions = len(doc_mention)\n",
    "        if num_of_mentions == num:\n",
    "            clusters_names.append(cluster)\n",
    "\n",
    "    return clusters_names\n",
    "\n",
    "\n",
    "def get_gold_within_doc(mentions):\n",
    "    wd_cluster = {}\n",
    "    for mention in mentions:\n",
    "        chain = mention['coref_chain']\n",
    "        doc = mention['doc_id']\n",
    "        id_within_doc = chain + '_' + doc\n",
    "        wd_cluster[id_within_doc] = [] if id_within_doc not in wd_cluster else wd_cluster[id_within_doc]\n",
    "        wd_cluster[id_within_doc].append(mention)\n",
    "\n",
    "    return wd_cluster\n",
    "\n",
    "\n",
    "\n",
    "def get_metainfo(clusters):\n",
    "    \"\"\"\n",
    "    print num of mentions per clusters\n",
    "    :param clusters:\n",
    "    :return:\n",
    "    \"\"\"\n",
    "    dic = {}\n",
    "    for cluster, doc_mention in clusters.items():\n",
    "        num_of_mentions = len(doc_mention)\n",
    "        dic[num_of_mentions] = dic.get(num_of_mentions, 0) + 1\n",
    "\n",
    "    for length, num_of_clusters in sorted(dic.items()):\n",
    "        print(\"There are {} clusters with {} mentions\".format(num_of_clusters, length))\n",
    "\n",
    "    number = dic.values()\n",
    "    labels = dic.keys()\n",
    "\n",
    "    #get_pie_chart(number, labels)\n",
    "\n",
    "def extract_mention_text(cluster):\n",
    "    mentions = []\n",
    "    for mention in cluster:\n",
    "        mention.append(mention['MENTION_TEXT'])\n",
    "    return mentions\n",
    "\n",
    "\n",
    "def get_pie_chart(values, labels):\n",
    "    patches, texts = plt.pie(values, shadow=True, startangle=90)\n",
    "    plt.legend(patches, labels, loc=\"best\")\n",
    "    plt.axis('equal')\n",
    "    plt.show()\n",
    "\n",
    "\n",
    "def within_to_cross(within_doc_cluster):\n",
    "    cross_doc = {}\n",
    "    for within in within_doc_cluster:\n",
    "        name = within.split('_')[0]\n",
    "        if name != 'INTRA' and name != 'Singleton':\n",
    "            cross_doc[name] = [] if name not in cross_doc else cross_doc[name]\n",
    "            cross_doc[name].append(within)\n",
    "\n",
    "    return cross_doc\n",
    "\n",
    "\n",
    "def find_most_popular_word(clusters, within_doc_cluster):\n",
    "    words = {}\n",
    "    for cluster in clusters:\n",
    "        mentions = within_doc_cluster[cluster]\n",
    "        vocab = set()\n",
    "        for mention in mentions:\n",
    "            text = mention['MENTION_TEXT']\n",
    "            vocab.add(text)\n",
    "\n",
    "        for word in vocab:\n",
    "            words[word] = words.get(word, 0) + 1\n",
    "\n",
    "    most_word = max(words.items(), key=operator.itemgetter(1))\n",
    "    return most_word[0], most_word[1]/len(clusters)\n",
    "\n",
    "\n",
    "\n",
    "\n",
    "def get_prob(within_doc_cluster):\n",
    "    cross_doc = within_to_cross(within_doc_cluster)\n",
    "    length = 0\n",
    "    prob = 0\n",
    "    for cluster, within in cross_doc.items():\n",
    "        word, coverage = find_most_popular_word(within, within_doc_cluster)\n",
    "        length += len(within)\n",
    "        prob += coverage * len(within)\n",
    "\n",
    "    return prob / length\n",
    "\n",
    "def get_distinct_mentions(mentions):\n",
    "    return list(set([m['tokens_str'] for m in mentions]))\n",
    "\n",
    "\n",
    "def get_mentions(all_mentions, cluster_id, doc_id=None, sent_id=None):\n",
    "    mentions = []\n",
    "    for mention in all_mentions:\n",
    "        if mention['coref_chain'] == cluster_id and (doc_id is None or mention['doc_id']==doc_id) and (sent_id is None or mention['sent_id'] == sent_id):\n",
    "            mentions.append(mention)\n",
    "            \n",
    "    return mentions"
   ]
  },
  {
   "cell_type": "markdown",
   "metadata": {},
   "source": [
    "# Select data to explore (ECB+ or MEANTIME)"
   ]
  },
  {
   "cell_type": "code",
   "execution_count": 8,
   "metadata": {},
   "outputs": [],
   "source": [
    "data = 'data/ecb/mentions'"
   ]
  },
  {
   "cell_type": "code",
   "execution_count": 9,
   "metadata": {},
   "outputs": [
    {
     "name": "stdout",
     "output_type": "stream",
     "text": [
      "8289 entity mentions\n",
      "6833 event mentions\n"
     ]
    }
   ],
   "source": [
    "with open(data + '/all_entity_gold_mentions.json', 'r') as f:\n",
    "    entity_mentions = json.load(f)\n",
    "\n",
    "with open(data + '/all_event_gold_mentions.json', 'r') as f:\n",
    "    event_mentions = json.load(f)\n",
    "    \n",
    "print('{} entity mentions'.format(len(entity_mentions)))\n",
    "print('{} event mentions'.format(len(event_mentions)))"
   ]
  },
  {
   "cell_type": "code",
   "execution_count": 10,
   "metadata": {},
   "outputs": [
    {
     "name": "stdout",
     "output_type": "stream",
     "text": [
      "Event Cross chains: 2741\n",
      "Event Within chains: 5496\n",
      "Entity Cross chains: 2221\n",
      "Entity Within chains: 5850\n"
     ]
    }
   ],
   "source": [
    "event_cross_clusters = get_all_chains(event_mentions)\n",
    "event_within_clusters = get_gold_within_doc(event_mentions)\n",
    "entity_cross_clusters = get_all_chains(entity_mentions)\n",
    "entity_within_clusters = get_gold_within_doc(entity_mentions)\n",
    "\n",
    "print('Event Cross chains: {}'.format(len(event_cross_clusters)))\n",
    "print('Event Within chains: {}'.format(len(event_within_clusters)))\n",
    "\n",
    "print('Entity Cross chains: {}'.format(len(entity_cross_clusters)))\n",
    "print('Entity Within chains: {}'.format(len(entity_within_clusters)))"
   ]
  },
  {
   "cell_type": "code",
   "execution_count": 6,
   "metadata": {},
   "outputs": [
    {
     "name": "stdout",
     "output_type": "stream",
     "text": [
      "Number of entity singleton: 1231\n",
      "Number of event singleton: 1775\n"
     ]
    }
   ],
   "source": [
    "entity_singleton = sum([1 for m in entity_mentions if m[\"coref_chain\"].startswith('Singleton')])\n",
    "event_singleton =  sum([1 for m in event_mentions if m[\"coref_chain\"].startswith('Singleton')])\n",
    "print('Number of entity singleton: {}'.format(entity_singleton))\n",
    "print('Number of event singleton: {}'.format(event_singleton))"
   ]
  },
  {
   "cell_type": "code",
   "execution_count": 8,
   "metadata": {},
   "outputs": [
    {
     "data": {
      "text/plain": [
       "[{'cluster_desc': 't3_van',\n",
       "  'coref_chain': 'NON16190758645925671',\n",
       "  'doc_id': '3_1ecbplus.xml',\n",
       "  'event_entity': 'entity',\n",
       "  'full_sentence': \"Comeaux , 49 , took the officers' weapons and handcuffed them together in the back of the vehicle before fleeing on foot at around 9 a . m . , Lyons said .\",\n",
       "  'is_pronoun': False,\n",
       "  'left_sentence': \"Comeaux , 49 , took the officers' weapons and handcuffed them together in the back of the\",\n",
       "  'm_id': '72',\n",
       "  'mention_type': 'NON',\n",
       "  'right_sentence': 'before fleeing on foot at around 9 a . m . , Lyons said .',\n",
       "  'sent_id': 5,\n",
       "  'subtopic': '3ecb+',\n",
       "  'tags': [],\n",
       "  'tokens_number': [17],\n",
       "  'tokens_str': 'vehicle',\n",
       "  'topic': '3'},\n",
       " {'cluster_desc': 't3_van',\n",
       "  'coref_chain': 'NON16190758645925671',\n",
       "  'doc_id': '3_1ecbplus.xml',\n",
       "  'event_entity': 'entity',\n",
       "  'full_sentence': \"Comeaux , 49 , took the officers' weapons and handcuffed them together in the back of the vehicle before fleeing on foot at around 9 a . m . , Lyons said .\",\n",
       "  'is_pronoun': False,\n",
       "  'left_sentence': \"Comeaux , 49 , took the officers' weapons and handcuffed them together\",\n",
       "  'm_id': '82',\n",
       "  'mention_type': 'NON',\n",
       "  'right_sentence': 'before fleeing on foot at around 9 a . m . , Lyons said .',\n",
       "  'sent_id': 5,\n",
       "  'subtopic': '3ecb+',\n",
       "  'tags': [],\n",
       "  'tokens_number': [12, 13, 14, 15, 16, 17],\n",
       "  'tokens_str': 'in the back of the vehicle',\n",
       "  'topic': '3'}]"
      ]
     },
     "execution_count": 8,
     "metadata": {},
     "output_type": "execute_result"
    }
   ],
   "source": [
    "get_mentions(entity_mentions, 'NON16190758645925671', '3_1ecbplus.xml', 5)"
   ]
  },
  {
   "cell_type": "code",
   "execution_count": 10,
   "metadata": {},
   "outputs": [
    {
     "name": "stdout",
     "output_type": "stream",
     "text": [
      "the Betty Ford Clinic in Rancho Mirage , Calif\n",
      "Betty Ford Center in Rancho Mirage , Calif .\n",
      "Early Friday morning , around 1 : 30 a . m\n",
      "Morningside Recovery in Newport Beach , Calif\n",
      "the Promises Treatment Center in Malibu , California\n",
      "a rehab facility in Malibu , Calif\n",
      "Betty Ford Treatment Center in Palm Springs\n",
      "into Promises Treatment Center in Los Angeles , California\n",
      "on Tuesday , December 9 , 2008\n",
      "Betty Ford Center in Rancho Mirage , Calif\n",
      "Early Friday morning , around 1 : 30 a . m\n",
      "Morningside Recovery in Newport Beach , CA\n",
      "8 : 00 am local time ( 0300 GMT ) on Sunday\n",
      "Shortly after 3 : 30 Tuesday morning\n",
      "the Waitrose supermarket in Wellington town centre\n",
      "the Waitrose supermarket in Wellington , Somerset\n",
      "a Waitrose Store in High Street , Banstead\n",
      "outside his house in a gang-plagued section of the city\n",
      "in the East Flatbush neighborhood in Brooklyn , New York\n",
      "in the East Flatbush neighborhood in Brooklyn , New York\n",
      "on the Persian Gulf island of Qeshm off Iran's southern coast\n",
      "an island off Iran 's southern coast\n",
      "an area around the town of Dargahan on Qeshm island , at the entrance to the Persian Gulf\n",
      "Qeshm island off Iran 's southern coast\n",
      "on the outskirts of Dargahan , a small town on the island\n",
      "part of Qeshm island in the Gulf off Iran 's southern Hormozgan province\n",
      "at 17:06 pm ( 1336 GMT ) on Sunday\n",
      "a sparsely populated area of southern Iran\n",
      "the island , some 930 miles south of the capital , Tehran\n",
      "The tourist Island of Qeshm on the Persian Gulf\n",
      "of high - rise buildings on the Sheikh Zayed Road\n",
      "60km south west of Bandar Abbas in Iran\n",
      "at the Kraft plant in Northeast Philly\n",
      "at the Kraft Foods plant in Northeast Philadelphia\n",
      "shortly after 8 : 30 p . m . Thursday\n",
      "at the Kraft Foods plant in Northeast Philadelphia\n",
      "at the Kraft Foods plant in Northeast Philadelphia\n",
      "inside the old Nabisco factory , along the 12000 block of Roosevelt Boulevard , at Woodhaven Road\n",
      "just after 8 : 30pm Thursday night\n",
      "an upmarket jewellery store in central Paris\n",
      "at Harry Winston jewellers on the Avenue Montaigne , just off the Champs-Elysees in the French capital\n",
      "through the front window of the store on Rue de Castiglione\n",
      "luxury jewellers in the heart of Paris\n",
      "the store on ritzy Avenue Montaigne near the Champs-Elysees\n",
      "an upmarket jewelry store in central Paris\n",
      "the Paris branch of jeweler Harry Winston\n",
      "a Harry Winston boutique on a posh Paris avenue\n",
      "the Harry Winston store in central Paris\n",
      "an upmarket jewellery boutique near Place Vendôme in central Paris\n",
      "in the heart of the city 's golden triangle of luxury shops\n",
      "the Harry Winston boutique just off the Champs-Elysees avenue\n",
      "an up - market jewellery store in central Paris\n",
      "an upmarket jewelry store in central Paris\n",
      "the store on the chic Avenue Montaigne , off the Champs Elysees in central Paris\n",
      "in his Pagliarelli prison cell in in Palermo\n",
      "the federal prison in Springfield , Mo .\n",
      "in Pagliarelli prison in the Sicilian capital of Palermo\n",
      "in the Porta Nuova area of Palermo\n",
      "in Pagliarelli prison in the Sicilian capital of Palermo\n",
      "the federal prison in Springfield , Mo .\n",
      "a cell in Palermo 's Pagliarelli prison\n",
      "the federal prison in Springfield , Mo\n",
      "in his cell in a Palermo jail\n",
      "in Pagliarelli prison in the Sicilian capital of Palermo\n",
      "in the Porta Nuova area of Palermo\n",
      "the federal prison in Springfield , Mo\n",
      "the U . S . Medical Center\n",
      "at his home in Santa Rosa , California\n",
      "in his room at a Biloxi , Miss . , motel\n",
      "in his room at the Sun Tan Motel\n",
      "at his home in Santa Rosa , Calif .\n",
      "at his home in Santa Rosa , Calif .\n",
      "in a hotel room in Biloxi , Mississippi\n",
      "in Santa Rosa , California , 55 miles ( 90 km ) north of San Francisco\n",
      "in a Biloxi , Miss . , motel room\n",
      "at a hotel in Biloxi , Miss .\n",
      "Saturday ( July 24 , 2004 ) .\n",
      "4 - 1 / 2 - month\n",
      "at a hospice near his home in Santa Rosa , California\n",
      "at his home in Santa Rosa , California\n",
      "at the start of the second quarter\n",
      "the Estelle Unit in Huntsville , Texas\n",
      "the Stiles Unit in Beaumont , Texas\n",
      "Parts of Asia , the Middle East , and Europe\n",
      "South East Asia- Middle East-Western Europe 4\n",
      "between the Middle East , Europe and America\n",
      "between South Africa , Europe and India\n",
      "between Abu Talat ( Egypt ) and Marseilles ( France )\n",
      "in Egypt , the UAE , India and other counties in the region\n",
      "in the Mediterranean between Sicily and Tunisia\n",
      "between Europe and the Middle East and Asia\n",
      "between 07:28 and 08:06 Coordinated Universal Time ( UTC\n",
      "in Egypt's second largest city of Alexandria and parts of the Nile Delta region\n",
      "in the Mediterranean between Sicily and North Africa\n",
      "between Europe , the Middle East and Asia\n",
      "from the Ramsis Communications Center all the way to Sadat City\n",
      "between Europe , the Middle East and South\n",
      "on SEA - ME - WE 4\n",
      "near the Alexandria cable station in Egypt\n",
      "between Europe , the Middle East , and Asia\n",
      "between Abu Talat ( Egypt ) and Marseilles ( France )\n",
      "between South Africa , Europe and India\n",
      "between Abu Talat ( Egypt ) and Marseilles ( France )\n",
      "with 7 minutes 41 seconds to go\n",
      "with 7:42 left in the first half\n",
      "with 14:05 left in the first half\n",
      "in a home in Millom , Cumbria\n",
      "at a terraced house in Newton Street , Millom\n",
      "at their Newton Street home in Millom\n",
      "until about 9 p.m. on the night of the shooting\n",
      "from a rooftop in Brownsville , Brooklyn\n",
      "in a Los Angeles , California , hospital\n",
      "MARFIN EGNATIA BANK , on Stadiou Street , downtown Athens\n",
      "the main demonstration route in central Athens\n",
      "a West Coast Bank branch in Woodburn , Oregon\n",
      "a West Coast Bank branch in Woodburn\n",
      "an Athens branch of the Marfin Investment Bank\n",
      "Section 7 of the Endangered Species Act\n",
      "the Gulf of Aden between Somalia and Yemen\n",
      "the waters off the Horn of Africa\n",
      "in the Gulf of Aden , between the Horn of Africa and the Arabian Peninsula\n",
      "store in the Mount Pleasant neighbourhood near downtown Vancouver\n",
      "Academy of Motion Picture Arts and Sciences\n",
      "Academy of Motion Pictures Arts and Sciences\n",
      "Academy of Motion Picture Arts and Sciences\n",
      "the Kodak Theatre at Hollywood and Highland Center\n",
      "on Sunday , February 22 , 2009\n",
      "at the Bloomington Sam 's Club store\n",
      "on the night of Sept . 13\n",
      "outside the Sam 's Club in Bloomington\n",
      "alongside parked cars on 117th Street and 97th Avenue\n",
      "outside a Sam 's Club store in Bloomington\n",
      "along parked cars at 97th Avenue and 117th Street in Richmond Hill\n",
      "at 97th Avenue and 117th Street in Richmond Hill\n",
      "around 7 p . m . Friday\n",
      "outside a Sam 's Club store in Bloomington\n",
      "in the parking lot crosswalk at Sam 's Club in Bloomington\n",
      "in the parking lot of the Bloomington Sam 's Club\n",
      "near 117th Street and 97th Avenue in Richmond Hill\n",
      "outside the Sam 's Club in Bloomington\n",
      "outside the Sam 's Club in Bloomington\n",
      "the Aoraki - Mount Cook national park\n",
      "from a ridge in the same national park\n",
      "from a ridge in the same national park\n",
      "off Zurbriggens Ridge , on Mt Cook\n",
      "near the Mount Sefton Bivvy , above the Mueller Glacier\n",
      "to a small hut on Mount Sefton\n",
      "New Zealand 's highest peak , Mount Cook\n",
      "to a small hut on Mount Sefton\n",
      "in New Zealand's Aoraki Mount Cook National Park\n",
      "a ridge in the same national park\n",
      "a hut on Mount Sefton in the Aoraki Mount Cook National Park\n",
      "in an ice cave on New Zealand 's Mt Cook\n",
      "a ridge in Aoraki / Mt . Cook National Park on New Zealand ’ s South Island\n",
      "a clinic in Bayou La Batre , Ala\n",
      "our nation's next U . S . Surgeon General\n",
      "Regina Benjamin , M . D . , M . B . A\n",
      "Robert Wood Johnson Foundation Trustee , Regina Benjamin , M . D . , M . B . A .\n",
      "on a freeway outside downtown San Diego\n",
      "early morning on Sunday , February 1 , 2009\n",
      "around 1 : 30 a . m . Feb . 1\n",
      "on a freeway outside the city's downtown area\n",
      "around 1 : 30 a . m . on February 1\n",
      "nearly three weeks following the end of their season\n",
      "againJuly 23 , 2008 . 4 : 49 pm\n",
      "Fundamentalist Church of Jesus Christ of Latter Day Saints\n",
      "Fundamentalist Church of Jesus Christ of Latter Day Saints ( FLDS\n",
      "Fundamentalist Church of Jesus Christ of Latter Day Saints ( FLDS\n",
      "Fundamentalist Church of Jesus Christ of Latter Day Saints\n",
      "on Tuesday at 07 : 37 a . m . UTC ( 3 : 37 a . m . EDT )\n",
      "75 kilometers ( 50 miles ) west of the region 's main city of Manokwari\n",
      "75 kilometres ( 50 miles ) west of Manokwari\n",
      "at 7 : 48 am ( 2248 GMT Tuesday\n",
      "Indonesia's northwestern Aceh province on the island of Sumatra\n",
      "Indonesia's northwestern Aceh province , on the island of Sumatra\n",
      "about 14 miles north - northeast of Healdsburg\n",
      "at 2 : 09 a . m\n",
      "about 14 miles north - northeast of Healdsburg\n",
      "at 2 : 09 a . m\n",
      "13 miles east of Cloverdale and 2 miles southeast of The Geysers\n",
      "about 14 miles northeast of Healdsburg , on the Maacama Fault\n",
      "at 2 : 09 a . m\n",
      "about 14 miles north - northeast of Healdsburg\n",
      "at 2 : 09 a . m\n",
      "at 2 : 09 a . m . Thursday\n",
      "from San Francisco to north of Sacramento\n",
      "in Geyserville , about 20 miles north of Santa Rosa\n",
      "at 2 : 09 a . m\n",
      "about 26 miles north of Santa Rosa\n",
      "about 14 miles north - northeast of Healdsburg\n",
      "at 2 : 09 a . m\n",
      "Doctor Who Live : The Next Doctor\n",
      "the new international border with South Sudan\n",
      "less than 50 km ( 30 miles ) from the tense border with Sudan\n",
      "at 2 : 53 p . m . local time today\n",
      "On Thursday , November 10th at approximately 3 : 00 pm\n",
      "At Yida Refugee Camp , South Sudan\n",
      "the Yida Refugee Camp in South Sudan\n",
      "at the perimeter of a school , which usually serves as a girls ' preparatory school , in the Jabaliya refugee camp\n",
      "A refugee camp in South Sudan's Unity state\n",
      "on the South Sudanese area of Yida\n",
      "A refugee camp in South Sudan's Unity state\n",
      "the new international border with South Sudan\n",
      "in the Jabalya refugee camp in northern Gaza\n",
      "at about 3pm on Tuesday ( 12am yesterday )\n",
      "Samaritan's Purse refugee camp in Yida , South Sudan\n",
      "EYP Mission Critical Facilities Inc . ( EYP MCF\n",
      "sometime in the second half of 2008\n"
     ]
    }
   ],
   "source": [
    "for mention in entity_mentions:\n",
    "    if len(mention['tokens_str'].split(' ')) > 6:\n",
    "        print(mention['tokens_str'])"
   ]
  },
  {
   "cell_type": "markdown",
   "metadata": {},
   "source": [
    "# Explore filtering methods (container, MINA, head ...)"
   ]
  },
  {
   "cell_type": "code",
   "execution_count": 112,
   "metadata": {},
   "outputs": [],
   "source": [
    "def plot_histogram(array):\n",
    "    arr = Series(array)\n",
    "    counter = arr.value_counts()\n",
    "    counter.plot(kind='bar')\n",
    "\n",
    "with open(os.path.join(data, 'clean_mentions.json'), 'r') as f:\n",
    "    clean_mentions = json.load(f)"
   ]
  },
  {
   "cell_type": "markdown",
   "metadata": {},
   "source": [
    "### 1. All mentions"
   ]
  },
  {
   "cell_type": "code",
   "execution_count": 113,
   "metadata": {},
   "outputs": [
    {
     "name": "stdout",
     "output_type": "stream",
     "text": [
      "Average length of mentions: 3.10258199581298\n",
      "Max mention: 35\n"
     ]
    },
    {
     "data": {
      "image/png": "[encoded data removed]",
      "text/plain": [
       "<Figure size 432x288 with 1 Axes>"
      ]
     },
     "metadata": {
      "needs_background": "light"
     },
     "output_type": "display_data"
    }
   ],
   "source": [
    "total_mentions = [len(m['tokens_number']) for m in entity_mentions]\n",
    "plot_histogram(total_mentions)\n",
    "\n",
    "print('Average length of mentions: {}'.format(np.mean(total_mentions)))\n",
    "print('Max mention: {}'.format(max(total_mentions)))"
   ]
  },
  {
   "cell_type": "markdown",
   "metadata": {},
   "source": [
    "### 2. Removing \"container\" mentions"
   ]
  },
  {
   "cell_type": "code",
   "execution_count": 114,
   "metadata": {},
   "outputs": [
    {
     "name": "stdout",
     "output_type": "stream",
     "text": [
      "225 mentions to be removed\n",
      "Average length of mentions: 2.673987126088603\n",
      "Max mention: 35\n"
     ]
    },
    {
     "data": {
      "image/png": "[encoded data removed]",
      "text/plain": [
       "<Figure size 432x288 with 1 Axes>"
      ]
     },
     "metadata": {
      "needs_background": "light"
     },
     "output_type": "display_data"
    }
   ],
   "source": [
    "clean = [len(m['tokens_number']) for m in clean_mentions]\n",
    "plot_histogram(clean)\n",
    "\n",
    "print('{} mentions to be removed'.format(len(entity_mentions) - len(clean)))\n",
    "print('Average length of mentions: {}'.format(np.mean(clean)))\n",
    "print('Max mention: {}'.format(max(clean)))"
   ]
  },
  {
   "cell_type": "markdown",
   "metadata": {},
   "source": [
    "### 3. Run MINA algorithm to minimize the mentions\n",
    "#### Using constitency tree from AllenNLP, matched subtree for only 1873 mentions (71%) (See next for more details)\n",
    "#### MINA found different span for 624 mentions"
   ]
  },
  {
   "cell_type": "code",
   "execution_count": 115,
   "metadata": {},
   "outputs": [
    {
     "name": "stdout",
     "output_type": "stream",
     "text": [
      "Average length of mentions: 2.17796289284362\n",
      "Max mention: 35\n"
     ]
    },
    {
     "data": {
      "image/png": "[encoded data removed]",
      "text/plain": [
       "<Figure size 432x288 with 1 Axes>"
      ]
     },
     "metadata": {
      "needs_background": "light"
     },
     "output_type": "display_data"
    }
   ],
   "source": [
    "mina_mentions = []\n",
    "modified_spans = 0\n",
    "for m in clean_mentions:\n",
    "    if m['min_spans']:\n",
    "        mina_mentions.append(len(m['min_spans']))\n",
    "    else:\n",
    "        mina_mentions.append(len(m['tokens_number']))\n",
    "        \n",
    "plot_histogram(mina_mentions)\n",
    "print('Average length of mentions: {}'.format(np.mean(mina_mentions)))\n",
    "print('Max mention: {}'.format(max(mina_mentions)))"
   ]
  },
  {
   "cell_type": "markdown",
   "metadata": {},
   "source": [
    "### 4. Fine-Tune MINA algorithm to cover more mentions"
   ]
  },
  {
   "cell_type": "markdown",
   "metadata": {},
   "source": [
    "# Statistics on the mentions length"
   ]
  },
  {
   "cell_type": "code",
   "execution_count": 7,
   "metadata": {},
   "outputs": [],
   "source": [
    "import math\n",
    "\n",
    "def get_min_max(mentions):\n",
    "    max = 0\n",
    "    min = math.inf\n",
    "    avg = 0\n",
    "    for mention in mentions:\n",
    "        length = len(mention['tokens_number'])\n",
    "        avg += length\n",
    "        if length > max:\n",
    "            max = length\n",
    "        if length < min:\n",
    "            min = length\n",
    "            \n",
    "    return min, max, avg/len(mentions)\n",
    "\n",
    "\n",
    "def mention_by_length(mentions, length):\n",
    "    output = []\n",
    "    for mention in mentions:\n",
    "        if len(mention['tokens_number']) == length:\n",
    "           output.append(mention)\n",
    "        \n",
    "    return output"
   ]
  },
  {
   "cell_type": "code",
   "execution_count": 8,
   "metadata": {},
   "outputs": [
    {
     "name": "stdout",
     "output_type": "stream",
     "text": [
      "Entity:\n",
      "The minimum mention contains 1 tokens\n",
      "The maximum mention contains 35 tokens\n",
      "The average length of mention is 3.10258199581298 tokens\n",
      "\n",
      "Event:\n",
      "The minimum mention contains 1 tokens\n",
      "The maximum mention contains 5 tokens\n",
      "The average length of mention is 1.0612244897959184 tokens\n"
     ]
    }
   ],
   "source": [
    "print('Entity:')\n",
    "min_entity, max_entity, avg_entity = get_min_max(entity_mentions)\n",
    "print(\"The minimum mention contains {} tokens\".format(min_entity))\n",
    "print(\"The maximum mention contains {} tokens\".format(max_entity))\n",
    "print(\"The average length of mention is {} tokens\".format(avg_entity))\n",
    "\n",
    "print()\n",
    "print('Event:')\n",
    "min_event, max_event, avg_event = get_min_max(event_mentions)\n",
    "print(\"The minimum mention contains {} tokens\".format(min_event))\n",
    "print(\"The maximum mention contains {} tokens\".format(max_event))\n",
    "print(\"The average length of mention is {} tokens\".format(avg_event))\n"
   ]
  },
  {
   "cell_type": "markdown",
   "metadata": {},
   "source": []
  },
  {
   "cell_type": "markdown",
   "metadata": {},
   "source": [
    "# Explore dominant mention method"
   ]
  },
  {
   "cell_type": "code",
   "execution_count": 9,
   "metadata": {},
   "outputs": [],
   "source": [
    "import operator\n",
    "\n",
    "def extract_dominant_mention(cluster_id, entity=True):\n",
    "    clusters = entity_cross_clusters if entity else event_cross_clusters\n",
    "    mentions = {}\n",
    "    different_docs = set()\n",
    "    for m in clusters[cluster_id]:\n",
    "        tokens = m['tokens_str']\n",
    "        mentions[tokens] = set() if tokens not in mentions else mentions[tokens]\n",
    "        mentions[tokens].add(m['doc_id'])\n",
    "        different_docs.add(m['doc_id'])\n",
    "    \n",
    "    for m, docs in mentions.items():\n",
    "        mentions[m] = len(docs)\n",
    "    \n",
    "    most_dominant = max(mentions.items(), key=operator.itemgetter(1))\n",
    "    return most_dominant[0], most_dominant[1], len(different_docs), most_dominant[1]/len(different_docs)\n",
    "\n",
    "\n",
    "def compute_statistics(entity=True, weight_avg=False):\n",
    "    clusters = entity_cross_clusters if entity else event_cross_clusters\n",
    "    numerator = 0\n",
    "    denominator = 0\n",
    "    exact = 0\n",
    "    dominant_mentions = []\n",
    "    num_of_docs = len(set(c for c, mentions in clusters.items() if len(mentions) > 1))\n",
    "    for cluster_id, mentions in clusters.items():\n",
    "        if len(mentions) > 1: #don't consider Singletons in this statistics\n",
    "            dominant, num, total_doc, percentage = extract_dominant_mention(cluster_id, entity)\n",
    "            dominant_mentions.append(dominant)\n",
    "            if weight_avg:\n",
    "                numerator += percentage * len(mentions)\n",
    "                denominator += len(mentions)\n",
    "            else:\n",
    "                numerator += percentage\n",
    "                denominator += 1\n",
    "            \n",
    "            if percentage == 1:\n",
    "                exact += 1\n",
    "    ambiguity = 1 - len(set(dominant_mentions)) / len(dominant_mentions)\n",
    "    return numerator/denominator, exact/num_of_docs, ambiguity\n"
   ]
  },
  {
   "cell_type": "code",
   "execution_count": 11,
   "metadata": {},
   "outputs": [
    {
     "ename": "KeyError",
     "evalue": "'HUM16236184328979740'",
     "output_type": "error",
     "traceback": [
      "\u001b[0;31m---------------------------------------------------------------------------\u001b[0m",
      "\u001b[0;31mKeyError\u001b[0m                                  Traceback (most recent call last)",
      "\u001b[0;32m<ipython-input-11-ac9dd107c59d>\u001b[0m in \u001b[0;36m<module>\u001b[0;34m\u001b[0m\n\u001b[0;32m----> 1\u001b[0;31m \u001b[0mdominant\u001b[0m\u001b[0;34m,\u001b[0m \u001b[0mnum\u001b[0m\u001b[0;34m,\u001b[0m \u001b[0mtotal_doc\u001b[0m\u001b[0;34m,\u001b[0m \u001b[0mpercentage\u001b[0m \u001b[0;34m=\u001b[0m \u001b[0mextract_dominant_mention\u001b[0m\u001b[0;34m(\u001b[0m\u001b[0;34m'HUM16236184328979740'\u001b[0m\u001b[0;34m)\u001b[0m\u001b[0;34m\u001b[0m\u001b[0;34m\u001b[0m\u001b[0m\n\u001b[0m\u001b[1;32m      2\u001b[0m \u001b[0mprint\u001b[0m\u001b[0;34m(\u001b[0m\u001b[0;34m\"Dominant mention: {}\"\u001b[0m\u001b[0;34m.\u001b[0m\u001b[0mformat\u001b[0m\u001b[0;34m(\u001b[0m\u001b[0mdominant\u001b[0m\u001b[0;34m)\u001b[0m\u001b[0;34m)\u001b[0m\u001b[0;34m\u001b[0m\u001b[0;34m\u001b[0m\u001b[0m\n\u001b[1;32m      3\u001b[0m \u001b[0mprint\u001b[0m\u001b[0;34m(\u001b[0m\u001b[0;34m\"Appear in {} documents on {}, percentage: {}\"\u001b[0m\u001b[0;34m.\u001b[0m\u001b[0mformat\u001b[0m\u001b[0;34m(\u001b[0m\u001b[0mnum\u001b[0m\u001b[0;34m,\u001b[0m \u001b[0mtotal_doc\u001b[0m\u001b[0;34m,\u001b[0m \u001b[0mpercentage\u001b[0m\u001b[0;34m)\u001b[0m\u001b[0;34m)\u001b[0m\u001b[0;34m\u001b[0m\u001b[0;34m\u001b[0m\u001b[0m\n",
      "\u001b[0;32m<ipython-input-9-ad630988859e>\u001b[0m in \u001b[0;36mextract_dominant_mention\u001b[0;34m(cluster_id, entity)\u001b[0m\n\u001b[1;32m      5\u001b[0m     \u001b[0mmentions\u001b[0m \u001b[0;34m=\u001b[0m \u001b[0;34m{\u001b[0m\u001b[0;34m}\u001b[0m\u001b[0;34m\u001b[0m\u001b[0;34m\u001b[0m\u001b[0m\n\u001b[1;32m      6\u001b[0m     \u001b[0mdifferent_docs\u001b[0m \u001b[0;34m=\u001b[0m \u001b[0mset\u001b[0m\u001b[0;34m(\u001b[0m\u001b[0;34m)\u001b[0m\u001b[0;34m\u001b[0m\u001b[0;34m\u001b[0m\u001b[0m\n\u001b[0;32m----> 7\u001b[0;31m     \u001b[0;32mfor\u001b[0m \u001b[0mm\u001b[0m \u001b[0;32min\u001b[0m \u001b[0mclusters\u001b[0m\u001b[0;34m[\u001b[0m\u001b[0mcluster_id\u001b[0m\u001b[0;34m]\u001b[0m\u001b[0;34m:\u001b[0m\u001b[0;34m\u001b[0m\u001b[0;34m\u001b[0m\u001b[0m\n\u001b[0m\u001b[1;32m      8\u001b[0m         \u001b[0mtokens\u001b[0m \u001b[0;34m=\u001b[0m \u001b[0mm\u001b[0m\u001b[0;34m[\u001b[0m\u001b[0;34m'tokens_str'\u001b[0m\u001b[0;34m]\u001b[0m\u001b[0;34m\u001b[0m\u001b[0;34m\u001b[0m\u001b[0m\n\u001b[1;32m      9\u001b[0m         \u001b[0mmentions\u001b[0m\u001b[0;34m[\u001b[0m\u001b[0mtokens\u001b[0m\u001b[0;34m]\u001b[0m \u001b[0;34m=\u001b[0m \u001b[0mset\u001b[0m\u001b[0;34m(\u001b[0m\u001b[0;34m)\u001b[0m \u001b[0;32mif\u001b[0m \u001b[0mtokens\u001b[0m \u001b[0;32mnot\u001b[0m \u001b[0;32min\u001b[0m \u001b[0mmentions\u001b[0m \u001b[0;32melse\u001b[0m \u001b[0mmentions\u001b[0m\u001b[0;34m[\u001b[0m\u001b[0mtokens\u001b[0m\u001b[0;34m]\u001b[0m\u001b[0;34m\u001b[0m\u001b[0;34m\u001b[0m\u001b[0m\n",
      "\u001b[0;31mKeyError\u001b[0m: 'HUM16236184328979740'"
     ]
    }
   ],
   "source": [
    "dominant, num, total_doc, percentage = extract_dominant_mention('HUM16236184328979740')\n",
    "print(\"Dominant mention: {}\".format(dominant))\n",
    "print(\"Appear in {} documents on {}, percentage: {}\".format(num, total_doc, percentage))"
   ]
  },
  {
   "cell_type": "code",
   "execution_count": 12,
   "metadata": {},
   "outputs": [
    {
     "name": "stdout",
     "output_type": "stream",
     "text": [
      "Entity: \n",
      "Number of document on average: 0.8827528560443786, \n",
      "Weight average: 0.8044596106766753, \n",
      "Ambiguity 0.061764705882352944\n",
      "All docs: 0.7529411764705882\n",
      "\n",
      "Event: \n",
      "Number of document on average: 0.9788732394366197, \n",
      "Weight average: 0.9747899159663865, \n",
      "Ambiguity 0.21126760563380287\n",
      "All docs: 0.9577464788732394\n"
     ]
    }
   ],
   "source": [
    "stat_entity, all_docs_entity, ambiguity_entity = compute_statistics(weight_avg=False)\n",
    "stat_entity_weight, all_docs_entity_weigh, ambiguity_entity_weight = compute_statistics(weight_avg=True)\n",
    "stat_event, all_docs_event, ambiguity_event = compute_statistics(entity=False, weight_avg=False)\n",
    "stat_event_weight, all_docs_event_weight, ambiguity_event_weight = compute_statistics(entity=False, weight_avg=True)\n",
    "\n",
    "print(\"Entity: \\nNumber of document on average: {}, \\nWeight average: {}, \\nAmbiguity {}\\nAll docs: {}\".\n",
    "      format(stat_entity, stat_entity_weight, ambiguity_entity, all_docs_entity))\n",
    "print()\n",
    "print(\"Event: \\nNumber of document on average: {}, \\nWeight average: {}, \\nAmbiguity {}\\nAll docs: {}\".\n",
    "      format(stat_event, stat_event_weight, ambiguity_event, all_docs_event))"
   ]
  },
  {
   "cell_type": "markdown",
   "metadata": {},
   "source": [
    "# How many clusters are actually across multiple documents"
   ]
  },
  {
   "cell_type": "code",
   "execution_count": 11,
   "metadata": {},
   "outputs": [
    {
     "name": "stdout",
     "output_type": "stream",
     "text": [
      "Entity - Number of clusters across multiple documents: 702 on 2221\n",
      "Event - Number of clusters across multiple documents: 669 on 2741\n"
     ]
    }
   ],
   "source": [
    "event_cross_doc_clusters = {}\n",
    "entity_cross_doc_clusters = {}\n",
    "\n",
    "for chain, mentions in entity_cross_clusters.items():\n",
    "    docs = list(set([m['doc_id'] for m in mentions]))\n",
    "    if len(docs) > 1:\n",
    "        entity_cross_doc_clusters[chain] = {'num_of_docs': len(docs), 'num_of_mentions': len(mentions)}\n",
    "\n",
    "for chain, mentions in event_cross_clusters.items():\n",
    "    docs = list(set([m['doc_id'] for m in mentions]))\n",
    "    if len(docs) > 1:\n",
    "        event_cross_doc_clusters[chain] = {'num_of_docs': len(docs), 'num_of_mentions': len(mentions)}\n",
    "\n",
    "print('Entity - Number of clusters across multiple documents: {} on {}'.\n",
    "      format(len(entity_cross_doc_clusters), len(entity_cross_clusters)))\n",
    "\n",
    "print('Event - Number of clusters across multiple documents: {} on {}'.\n",
    "      format(len(event_cross_doc_clusters), len(event_cross_clusters)))"
   ]
  },
  {
   "cell_type": "code",
   "execution_count": null,
   "metadata": {},
   "outputs": [],
   "source": []
  }
 ],
 "metadata": {
  "kernelspec": {
   "display_name": "Python 3",
   "language": "python",
   "name": "python3"
  },
  "language_info": {
   "codemirror_mode": {
    "name": "ipython",
    "version": 3
   },
   "file_extension": ".py",
   "mimetype": "text/x-python",
   "name": "python",
   "nbconvert_exporter": "python",
   "pygments_lexer": "ipython3",
   "version": "3.7.3"
  }
 },
 "nbformat": 4,
 "nbformat_minor": 2
}
