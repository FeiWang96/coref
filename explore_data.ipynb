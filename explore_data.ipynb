{
 "cells": [
  {
   "cell_type": "code",
   "execution_count": 11,
   "metadata": {},
   "outputs": [],
   "source": [
    "import json\n",
    "import matplotlib.pyplot as plt\n",
    "import operator"
   ]
  },
  {
   "cell_type": "code",
   "execution_count": 18,
   "metadata": {},
   "outputs": [],
   "source": [
    "def get_mentions_of_cluster(dataset, cluster_id):\n",
    "    mentions = []\n",
    "    for mention in dataset:\n",
    "        if mention['coref_chain'] == cluster_id:\n",
    "            mentions.append(mention)\n",
    "\n",
    "    return mentions\n",
    "\n",
    "\n",
    "def get_all_chains(mentions):\n",
    "    clusters = {}\n",
    "    for mention_dic in mentions:\n",
    "        chain = mention_dic['coref_chain']\n",
    "        clusters[chain] = [] if chain not in clusters else clusters[chain]\n",
    "        clusters[chain].append(mention_dic)\n",
    "\n",
    "    return clusters\n",
    "\n",
    "\n",
    "def get_cluster_by_mention_num(clusters, num):\n",
    "    clusters_names = []\n",
    "    for cluster, doc_mention in clusters.items():\n",
    "        num_of_mentions = len(doc_mention)\n",
    "        if num_of_mentions == num:\n",
    "            clusters_names.append(cluster)\n",
    "\n",
    "    return clusters_names\n",
    "\n",
    "\n",
    "def get_gold_within_doc(mentions):\n",
    "    wd_cluster = {}\n",
    "    for mention in mentions:\n",
    "        chain = mention['coref_chain']\n",
    "        doc = mention['doc_id']\n",
    "        id_within_doc = chain + '_' + doc\n",
    "        wd_cluster[id_within_doc] = [] if id_within_doc not in wd_cluster else wd_cluster[id_within_doc]\n",
    "        wd_cluster[id_within_doc].append(mention)\n",
    "\n",
    "    return wd_cluster\n",
    "\n",
    "\n",
    "\n",
    "def get_metainfo(clusters):\n",
    "    \"\"\"\n",
    "    print num of mentions per clusters\n",
    "    :param clusters:\n",
    "    :return:\n",
    "    \"\"\"\n",
    "    dic = {}\n",
    "    for cluster, doc_mention in clusters.items():\n",
    "        num_of_mentions = len(doc_mention)\n",
    "        dic[num_of_mentions] = dic.get(num_of_mentions, 0) + 1\n",
    "\n",
    "    for length, num_of_clusters in sorted(dic.items()):\n",
    "        print(\"There are {} clusters with {} mentions\".format(num_of_clusters, length))\n",
    "\n",
    "    number = dic.values()\n",
    "    labels = dic.keys()\n",
    "\n",
    "    #get_pie_chart(number, labels)\n",
    "\n",
    "def extract_mention_text(cluster):\n",
    "    mentions = []\n",
    "    for mention in cluster:\n",
    "        mention.append(mention['MENTION_TEXT'])\n",
    "    return mentions\n",
    "\n",
    "\n",
    "def get_pie_chart(values, labels):\n",
    "    patches, texts = plt.pie(values, shadow=True, startangle=90)\n",
    "    plt.legend(patches, labels, loc=\"best\")\n",
    "    plt.axis('equal')\n",
    "    plt.show()\n",
    "\n",
    "\n",
    "def within_to_cross(within_doc_cluster):\n",
    "    cross_doc = {}\n",
    "    for within in within_doc_cluster:\n",
    "        name = within.split('_')[0]\n",
    "        if name != 'INTRA' and name != 'Singleton':\n",
    "            cross_doc[name] = [] if name not in cross_doc else cross_doc[name]\n",
    "            cross_doc[name].append(within)\n",
    "\n",
    "    return cross_doc\n",
    "\n",
    "\n",
    "def find_most_popular_word(clusters, within_doc_cluster):\n",
    "    words = {}\n",
    "    for cluster in clusters:\n",
    "        mentions = within_doc_cluster[cluster]\n",
    "        vocab = set()\n",
    "        for mention in mentions:\n",
    "            text = mention['MENTION_TEXT']\n",
    "            vocab.add(text)\n",
    "\n",
    "        for word in vocab:\n",
    "            words[word] = words.get(word, 0) + 1\n",
    "\n",
    "    most_word = max(words.items(), key=operator.itemgetter(1))\n",
    "    return most_word[0], most_word[1]/len(clusters)\n",
    "\n",
    "\n",
    "\n",
    "\n",
    "def get_prob(within_doc_cluster):\n",
    "    cross_doc = within_to_cross(within_doc_cluster)\n",
    "    length = 0\n",
    "    prob = 0\n",
    "    for cluster, within in cross_doc.items():\n",
    "        word, coverage = find_most_popular_word(within, within_doc_cluster)\n",
    "        length += len(within)\n",
    "        prob += coverage * len(within)\n",
    "\n",
    "    return prob / length\n",
    "\n"
   ]
  },
  {
   "cell_type": "markdown",
   "metadata": {},
   "source": [
    "Select data to explore (ECB+ or MEANTIME)"
   ]
  },
  {
   "cell_type": "code",
   "execution_count": 86,
   "metadata": {},
   "outputs": [],
   "source": [
    "data = 'ecb_data'"
   ]
  },
  {
   "cell_type": "code",
   "execution_count": 87,
   "metadata": {},
   "outputs": [
    {
     "name": "stdout",
     "output_type": "stream",
     "text": [
      "8289 entity mentions\n",
      "6833 event mentions\n"
     ]
    }
   ],
   "source": [
    "with open(data + '/all_entity_gold_mentions.json', 'r') as f:\n",
    "    entity_mentions = json.load(f)\n",
    "\n",
    "with open(data + '/all_event_gold_mentions.json', 'r') as f:\n",
    "    event_mentions = json.load(f)\n",
    "    \n",
    "print('{} entity mentions'.format(len(entity_mentions)))\n",
    "print('{} event mentions'.format(len(event_mentions)))"
   ]
  },
  {
   "cell_type": "code",
   "execution_count": 88,
   "metadata": {},
   "outputs": [
    {
     "name": "stdout",
     "output_type": "stream",
     "text": [
      "Number of entity chains: 2221\n",
      "Number of event chains: 2741\n"
     ]
    }
   ],
   "source": [
    "event_cross_clusters = get_all_chains(event_mentions)\n",
    "event_within_clusters = get_gold_within_doc(event_mentions)\n",
    "entity_cross_clusters = get_all_chains(entity_mentions)\n",
    "entity_within_clusters = get_gold_within_doc(entity_mentions)\n",
    "print('Number of entity chains: {}'.format(len(entity_cross_clusters)))\n",
    "print('Number of event chains: {}'.format(len(event_cross_clusters)))"
   ]
  },
  {
   "cell_type": "code",
   "execution_count": 89,
   "metadata": {},
   "outputs": [
    {
     "name": "stdout",
     "output_type": "stream",
     "text": [
      "Number of entity singleton: 1231\n",
      "Number of event singleton: 1775\n"
     ]
    }
   ],
   "source": [
    "entity_singleton = sum([1 for m in entity_mentions if m[\"coref_chain\"].startswith('Singleton')])\n",
    "event_singleton =  sum([1 for m in event_mentions if m[\"coref_chain\"].startswith('Singleton')])\n",
    "print('Number of entity singleton: {}'.format(entity_singleton))\n",
    "print('Number of event singleton: {}'.format(event_singleton))"
   ]
  },
  {
   "cell_type": "code",
   "execution_count": 90,
   "metadata": {},
   "outputs": [
    {
     "name": "stdout",
     "output_type": "stream",
     "text": [
      "Event Cross chains: 2741\n",
      "Event Within chains: 5496\n",
      "Entity Cross chains: 2221\n",
      "Entity Within chains: 5850\n"
     ]
    }
   ],
   "source": [
    "print('Event Cross chains: {}'.format(len(event_cross_clusters)))\n",
    "print('Event Within chains: {}'.format(len(event_within_clusters)))\n",
    "\n",
    "print('Entity Cross chains: {}'.format(len(entity_cross_clusters)))\n",
    "print('Entity Within chains: {}'.format(len(entity_within_clusters)))"
   ]
  },
  {
   "cell_type": "code",
   "execution_count": 91,
   "metadata": {},
   "outputs": [
    {
     "name": "stdout",
     "output_type": "stream",
     "text": [
      "There are 4460 clusters with 1 mentions\n",
      "There are 807 clusters with 2 mentions\n",
      "There are 179 clusters with 3 mentions\n",
      "There are 37 clusters with 4 mentions\n",
      "There are 7 clusters with 5 mentions\n",
      "There are 4 clusters with 6 mentions\n",
      "There are 1 clusters with 7 mentions\n",
      "There are 1 clusters with 8 mentions\n"
     ]
    }
   ],
   "source": [
    "get_metainfo(event_within_clusters)"
   ]
  },
  {
   "cell_type": "code",
   "execution_count": 92,
   "metadata": {},
   "outputs": [
    {
     "data": {
      "text/plain": [
       "['ACT17239767913146830_32_10ecbplus.xml',\n",
       " 'ACT17239767913146830_32_11ecbplus.xml',\n",
       " 'ACT27398642960429027_33_3ecb.xml',\n",
       " 'ACT16632565623246075_27_1ecb.xml',\n",
       " 'ACT16869980928391781_7_5ecbplus.xml',\n",
       " 'ACT16762501657378707_28_11ecb.xml',\n",
       " 'ACT15986681471021312_1_1ecbplus.xml',\n",
       " 'ACT16236402809085484_1_7ecb.xml',\n",
       " 'ACT17050876360621871_31_5ecb.xml',\n",
       " 'ACT17042418372710956_30_13ecbplus.xml',\n",
       " 'ACT16979318564046465_30_10ecb.xml',\n",
       " 'ACT16979225864150215_30_3ecb.xml',\n",
       " 'ACT16979267820424588_30_3ecb.xml',\n",
       " 'ACT17042122379497712_30_6ecbplus.xml',\n",
       " 'ACT16194654011907361_4_4ecbplus.xml',\n",
       " 'ACT16194654011907361_4_8ecbplus.xml',\n",
       " 'ACT16190399378875259_3_6ecbplus.xml',\n",
       " 'ACT16190399378875259_3_8ecbplus.xml',\n",
       " 'ACT17642048248481893_35_2ecb.xml',\n",
       " 'ACT18007234386480781_21_7ecbplus.xml',\n",
       " 'ACT18241002218927644_23_5ecbplus.xml',\n",
       " 'ACT18241002218927644_23_11ecbplus.xml',\n",
       " 'ACT18240959809845886_23_1ecbplus.xml',\n",
       " 'ACT18241002218927644_23_10ecbplus.xml',\n",
       " 'ACT16240564368961988_2_1ecbplus.xml',\n",
       " 'ACT16239369414744113_2_4ecbplus.xml',\n",
       " 'ACT18222897859726438_44_3ecb.xml',\n",
       " 'ACT18222908848679496_44_5ecb.xml',\n",
       " 'ACT18222897859726438_44_2ecb.xml',\n",
       " 'ACT18222908848679496_44_2ecb.xml',\n",
       " 'ACT17773499018825369_43_5ecbplus.xml',\n",
       " 'ACT17643276204095552_37_6ecbplus.xml',\n",
       " 'ACT17765459464845898_41_4ecb.xml',\n",
       " 'ACT17765459464845898_41_9ecb.xml',\n",
       " 'ACT17765459464845898_41_7ecb.xml',\n",
       " 'ACT17764126188523329_40_1ecbplus.xml',\n",
       " 'ACT17764126188523329_40_3ecbplus.xml']"
      ]
     },
     "execution_count": 92,
     "metadata": {},
     "output_type": "execute_result"
    }
   ],
   "source": [
    "get_cluster_by_mention_num(event_within_clusters, 4)"
   ]
  },
  {
   "cell_type": "code",
   "execution_count": 93,
   "metadata": {},
   "outputs": [
    {
     "ename": "KeyError",
     "evalue": "'OTH57180939930115798'",
     "output_type": "error",
     "traceback": [
      "\u001b[0;31m---------------------------------------------------------------------------\u001b[0m",
      "\u001b[0;31mKeyError\u001b[0m                                  Traceback (most recent call last)",
      "\u001b[0;32m<ipython-input-93-240fce049c41>\u001b[0m in \u001b[0;36m<module>\u001b[0;34m\u001b[0m\n\u001b[0;32m----> 1\u001b[0;31m \u001b[0mlen\u001b[0m\u001b[0;34m(\u001b[0m\u001b[0mevent_cross_clusters\u001b[0m\u001b[0;34m[\u001b[0m\u001b[0;34m'OTH57180939930115798'\u001b[0m\u001b[0;34m]\u001b[0m\u001b[0;34m)\u001b[0m\u001b[0;34m\u001b[0m\u001b[0;34m\u001b[0m\u001b[0m\n\u001b[0m",
      "\u001b[0;31mKeyError\u001b[0m: 'OTH57180939930115798'"
     ]
    }
   ],
   "source": [
    "len(event_cross_clusters['OTH57180939930115798'])"
   ]
  },
  {
   "cell_type": "code",
   "execution_count": 94,
   "metadata": {},
   "outputs": [
    {
     "ename": "KeyError",
     "evalue": "'OTH40105343779700492'",
     "output_type": "error",
     "traceback": [
      "\u001b[0;31m---------------------------------------------------------------------------\u001b[0m",
      "\u001b[0;31mKeyError\u001b[0m                                  Traceback (most recent call last)",
      "\u001b[0;32m<ipython-input-94-b151effd0880>\u001b[0m in \u001b[0;36m<module>\u001b[0;34m\u001b[0m\n\u001b[1;32m      1\u001b[0m \u001b[0moutputs\u001b[0m \u001b[0;34m=\u001b[0m \u001b[0;34m[\u001b[0m\u001b[0;34m]\u001b[0m\u001b[0;34m\u001b[0m\u001b[0;34m\u001b[0m\u001b[0m\n\u001b[0;32m----> 2\u001b[0;31m \u001b[0;32mfor\u001b[0m \u001b[0mmention\u001b[0m \u001b[0;32min\u001b[0m \u001b[0mevent_cross_clusters\u001b[0m\u001b[0;34m[\u001b[0m\u001b[0;34m'OTH40105343779700492'\u001b[0m\u001b[0;34m]\u001b[0m\u001b[0;34m:\u001b[0m\u001b[0;34m\u001b[0m\u001b[0;34m\u001b[0m\u001b[0m\n\u001b[0m\u001b[1;32m      3\u001b[0m     \u001b[0;32mif\u001b[0m \u001b[0mmention\u001b[0m\u001b[0;34m[\u001b[0m\u001b[0;34m'doc_id'\u001b[0m\u001b[0;34m]\u001b[0m \u001b[0;34m!=\u001b[0m \u001b[0;34m'9549_Reactions_to_Apple.xml'\u001b[0m\u001b[0;34m:\u001b[0m\u001b[0;34m\u001b[0m\u001b[0;34m\u001b[0m\u001b[0m\n\u001b[1;32m      4\u001b[0m         \u001b[0moutputs\u001b[0m\u001b[0;34m.\u001b[0m\u001b[0mappend\u001b[0m\u001b[0;34m(\u001b[0m\u001b[0mmention\u001b[0m\u001b[0;34m)\u001b[0m\u001b[0;34m\u001b[0m\u001b[0;34m\u001b[0m\u001b[0m\n\u001b[1;32m      5\u001b[0m \u001b[0;34m\u001b[0m\u001b[0m\n",
      "\u001b[0;31mKeyError\u001b[0m: 'OTH40105343779700492'"
     ]
    }
   ],
   "source": [
    "outputs = []\n",
    "for mention in event_cross_clusters['OTH40105343779700492']:\n",
    "    if mention['doc_id'] != '9549_Reactions_to_Apple.xml':\n",
    "        outputs.append(mention)\n",
    "\n",
    "sorted(outputs, key=lambda m: m['sent_id'])"
   ]
  },
  {
   "cell_type": "code",
   "execution_count": 101,
   "metadata": {},
   "outputs": [],
   "source": [
    "cross_keys = set()\n",
    "for cluster, mentions in event_cross_clusters.items():\n",
    "    doc = mentions[0]['doc_id']\n",
    "    for m in mentions[1:]:\n",
    "        if m['doc_id'] != doc:\n",
    "            cross_keys.add(m['coref_chain'])"
   ]
  },
  {
   "cell_type": "code",
   "execution_count": 102,
   "metadata": {},
   "outputs": [
    {
     "data": {
      "text/plain": [
       "669"
      ]
     },
     "execution_count": 102,
     "metadata": {},
     "output_type": "execute_result"
    }
   ],
   "source": [
    "len(cross_keys)"
   ]
  },
  {
   "cell_type": "code",
   "execution_count": 61,
   "metadata": {},
   "outputs": [
    {
     "data": {
      "text/plain": [
       "{'OTH39740769611526334',\n",
       " 'OTH40105343779700492',\n",
       " 'OTH57180939930115798',\n",
       " 'OTH57301135384410360',\n",
       " 'OTH57384457951243371'}"
      ]
     },
     "execution_count": 61,
     "metadata": {},
     "output_type": "execute_result"
    }
   ],
   "source": [
    "cross_keys"
   ]
  },
  {
   "cell_type": "code",
   "execution_count": null,
   "metadata": {},
   "outputs": [],
   "source": []
  }
 ],
 "metadata": {
  "kernelspec": {
   "display_name": "Python 3",
   "language": "python",
   "name": "python3"
  },
  "language_info": {
   "codemirror_mode": {
    "name": "ipython",
    "version": 3
   },
   "file_extension": ".py",
   "mimetype": "text/x-python",
   "name": "python",
   "nbconvert_exporter": "python",
   "pygments_lexer": "ipython3",
   "version": "3.7.1"
  }
 },
 "nbformat": 4,
 "nbformat_minor": 2
}
